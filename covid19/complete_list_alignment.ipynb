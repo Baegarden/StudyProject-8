{
 "cells": [
  {
   "cell_type": "code",
   "execution_count": 1,
   "metadata": {},
   "outputs": [
    {
     "name": "stdin",
     "output_type": "stream",
     "text": [
      "number :  2\n",
      "name :  MH940245\n",
      "name :  MH940245\n"
     ]
    },
    {
     "name": "stdout",
     "output_type": "stream",
     "text": [
      "## processing: MH940245\n",
      "## processing: MH940245\n",
      "clustalw2 -infile=covid.fasta\n"
     ]
    },
    {
     "ename": "ApplicationError",
     "evalue": "Non-zero return code 4294967295 from '\"C:\\\\Program Files (x86)\\\\ClustalW2\\\\clustalw2.exe\" -infile=covid.fasta', message 'ERROR: Multiple sequences found with same name (found MH940245.1 at least twice)!'",
     "output_type": "error",
     "traceback": [
      "\u001b[1;31m---------------------------------------------------------------------------\u001b[0m",
      "\u001b[1;31mApplicationError\u001b[0m                          Traceback (most recent call last)",
      "\u001b[1;32m<ipython-input-1-71053dd48c78>\u001b[0m in \u001b[0;36m<module>\u001b[1;34m\u001b[0m\n\u001b[0;32m     64\u001b[0m \u001b[1;32massert\u001b[0m \u001b[0mos\u001b[0m\u001b[1;33m.\u001b[0m\u001b[0mpath\u001b[0m\u001b[1;33m.\u001b[0m\u001b[0misfile\u001b[0m\u001b[1;33m(\u001b[0m\u001b[0mclustalw_exe\u001b[0m\u001b[1;33m)\u001b[0m\u001b[1;33m,\u001b[0m \u001b[1;34m\"Clustal W executable missing\"\u001b[0m\u001b[1;33m\u001b[0m\u001b[1;33m\u001b[0m\u001b[0m\n\u001b[0;32m     65\u001b[0m \u001b[1;33m\u001b[0m\u001b[0m\n\u001b[1;32m---> 66\u001b[1;33m \u001b[0mstdout\u001b[0m\u001b[1;33m,\u001b[0m \u001b[0mstderr\u001b[0m \u001b[1;33m=\u001b[0m \u001b[0mclustalw_cline\u001b[0m\u001b[1;33m(\u001b[0m\u001b[1;33m)\u001b[0m\u001b[1;33m\u001b[0m\u001b[1;33m\u001b[0m\u001b[0m\n\u001b[0m\u001b[0;32m     67\u001b[0m \u001b[1;33m\u001b[0m\u001b[0m\n\u001b[0;32m     68\u001b[0m \u001b[0mf\u001b[0m \u001b[1;33m=\u001b[0m \u001b[0mopen\u001b[0m\u001b[1;33m(\u001b[0m\u001b[1;34m'covid.aln'\u001b[0m\u001b[1;33m,\u001b[0m \u001b[1;34m'r'\u001b[0m\u001b[1;33m)\u001b[0m\u001b[1;33m\u001b[0m\u001b[1;33m\u001b[0m\u001b[0m\n",
      "\u001b[1;32mC:\\anaconda3\\lib\\site-packages\\Bio\\Application\\__init__.py\u001b[0m in \u001b[0;36m__call__\u001b[1;34m(self, stdin, stdout, stderr, cwd, env)\u001b[0m\n\u001b[0;32m    567\u001b[0m \u001b[1;33m\u001b[0m\u001b[0m\n\u001b[0;32m    568\u001b[0m         \u001b[1;32mif\u001b[0m \u001b[0mreturn_code\u001b[0m\u001b[1;33m:\u001b[0m\u001b[1;33m\u001b[0m\u001b[1;33m\u001b[0m\u001b[0m\n\u001b[1;32m--> 569\u001b[1;33m             \u001b[1;32mraise\u001b[0m \u001b[0mApplicationError\u001b[0m\u001b[1;33m(\u001b[0m\u001b[0mreturn_code\u001b[0m\u001b[1;33m,\u001b[0m \u001b[0mstr\u001b[0m\u001b[1;33m(\u001b[0m\u001b[0mself\u001b[0m\u001b[1;33m)\u001b[0m\u001b[1;33m,\u001b[0m \u001b[0mstdout_str\u001b[0m\u001b[1;33m,\u001b[0m \u001b[0mstderr_str\u001b[0m\u001b[1;33m)\u001b[0m\u001b[1;33m\u001b[0m\u001b[1;33m\u001b[0m\u001b[0m\n\u001b[0m\u001b[0;32m    570\u001b[0m         \u001b[1;32mreturn\u001b[0m \u001b[0mstdout_str\u001b[0m\u001b[1;33m,\u001b[0m \u001b[0mstderr_str\u001b[0m\u001b[1;33m\u001b[0m\u001b[1;33m\u001b[0m\u001b[0m\n\u001b[0;32m    571\u001b[0m \u001b[1;33m\u001b[0m\u001b[0m\n",
      "\u001b[1;31mApplicationError\u001b[0m: Non-zero return code 4294967295 from '\"C:\\\\Program Files (x86)\\\\ClustalW2\\\\clustalw2.exe\" -infile=covid.fasta', message 'ERROR: Multiple sequences found with same name (found MH940245.1 at least twice)!'"
     ]
    }
   ],
   "source": [
    "import os\n",
    "from Bio.Align.Applications import ClustalwCommandline\n",
    "from Bio import Entrez \n",
    "from Bio import SeqIO \n",
    "from Bio.Align.Applications import MuscleCommandline\n",
    "from Bio import Phylo\n",
    "\n",
    "import pandas as pd \n",
    "\n",
    "def fetch_record(genbank_id): \n",
    "    Entrez.email = \"dnjs0148@naver.com\" \n",
    "    handle = Entrez.efetch(db=\"nucleotide\", id=genbank_id, rettype=\"gb\", retmode=\"xml\") \n",
    "    records = Entrez.read(handle) \n",
    "    return records \n",
    "\n",
    "def get_sequence(records): \n",
    "    return records[0][\"GBSeq_sequence\"] \n",
    "\n",
    "#=========================== covid.fasta 파일에 바이러스 염기서열을 모두 써준다. =============================\n",
    "def write_sequence(genbank_id, records): \n",
    "    print(\"## processing: \"+genbank_id) \n",
    "    record_id = records[0][\"GBSeq_accession-version\"] \n",
    "    record_desc = records[0][\"GBSeq_definition\"] \n",
    "    record_seq = records[0][\"GBSeq_sequence\"] \n",
    "    \n",
    "    with open(\"covid.fasta\",'a') as fw: \n",
    "        fw.write(\">\"+record_id+\" \"+record_desc+\"\\n\") \n",
    "        fw.write(record_seq+\"\\n\") \n",
    "        \n",
    "def read_table(file): \n",
    "    df = pd.read_csv(file, sep=\"\\t\") \n",
    "    return df \n",
    "\n",
    "#============================ number만큼 genbank_id를 입력하고 저장한다. ========================\n",
    "f = open(\"covidlist.txt\", 'a')\n",
    "f.write(\"GenBank\"+\"\\t\"+\"RefSeq\"+\"\\t\"+\"Gene Region\"+\"\\n\")\n",
    "\n",
    "a = int(input('number : '))\n",
    "genbank_id = []\n",
    "for b in range(0, a):\n",
    "    genbank_id.append(input('name : '))\n",
    "    \n",
    "for b in range(0, a):\n",
    "    f.write(genbank_id[b]+\"\\t\"+\"\\t\"+\"complete\"+\"\\n\")\n",
    "\n",
    "f.close()\n",
    "\n",
    "#========== txt파일내에 있는 genbank_id에 해당하는 유전자의 염기서열을 covid.fasta 파일에  작성한다. ===========\n",
    "file = \"covidlist.txt\" \n",
    "df = read_table(file) \n",
    "complete_df = df[df[\"Gene Region\"]==\"complete\"] \n",
    "genbank_id_list = complete_df[\"GenBank\"] \n",
    "#genbank_id_list = complete_df[\"GenBank\"] \n",
    "for genbank_id in genbank_id_list: \n",
    "    records = fetch_record(genbank_id) \n",
    "    write_sequence(genbank_id, records)\n",
    "\n",
    "cline = ClustalwCommandline(\"clustalw2\", infile=\"covid.fasta\")\n",
    "print(cline)\n",
    "\n",
    "# clustalw_exe = r\"C:\\ProgramData\\Microsoft\\Windows\\Start Menu\\Programs\\ClustalW2\"                                          \n",
    "clustalw_exe = r\"C:\\Program Files (x86)\\ClustalW2\\clustalw2.exe\"\n",
    "clustalw_cline = ClustalwCommandline(clustalw_exe, infile=\"covid.fasta\")\n",
    "assert os.path.isfile(clustalw_exe), \"Clustal W executable missing\"\n",
    "\n",
    "stdout, stderr = clustalw_cline()\n",
    "\n",
    "f = open('covid.aln', 'r')\n",
    "while True:\n",
    "    line = f.readline()\n",
    "    if not line: break\n",
    "    print(line)\n",
    "\n",
    "tree = Phylo.read(\"covid.dnd\", \"newick\")\n",
    "Phylo.draw_ascii(tree)"
   ]
  },
  {
   "cell_type": "code",
   "execution_count": null,
   "metadata": {},
   "outputs": [],
   "source": []
  }
 ],
 "metadata": {
  "kernelspec": {
   "display_name": "Python 3",
   "language": "python",
   "name": "python3"
  },
  "language_info": {
   "codemirror_mode": {
    "name": "ipython",
    "version": 3
   },
   "file_extension": ".py",
   "mimetype": "text/x-python",
   "name": "python",
   "nbconvert_exporter": "python",
   "pygments_lexer": "ipython3",
   "version": "3.8.5"
  }
 },
 "nbformat": 4,
 "nbformat_minor": 4
}
