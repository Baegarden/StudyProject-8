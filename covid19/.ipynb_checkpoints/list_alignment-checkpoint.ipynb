{
 "cells": [
  {
   "cell_type": "code",
   "execution_count": 1,
   "metadata": {},
   "outputs": [
    {
     "name": "stdout",
     "output_type": "stream",
     "text": [
      "number : 2\n",
      "name : NC_045512\n",
      "name : NC_004718\n",
      "## processing: NC_045512\n",
      "## processing: NC_004718\n",
      "C:\\Users\\조형민\\graduationProject\\covid19\\muscle3.8.31_i86win32 -in covid.fasta -out covid.aln -clw\n"
     ]
    }
   ],
   "source": [
    "from Bio import Entrez \n",
    "from Bio import SeqIO \n",
    "from Bio.Align.Applications import MuscleCommandline\n",
    "\n",
    "import pandas as pd \n",
    "\n",
    "def fetch_record(genbank_id): \n",
    "    Entrez.email = \"dnjs0148@naver.com\" \n",
    "    handle = Entrez.efetch(db=\"nucleotide\", id=genbank_id, rettype=\"gb\", retmode=\"xml\") \n",
    "    records = Entrez.read(handle) \n",
    "    return records \n",
    "\n",
    "def get_sequence(records): \n",
    "    return records[0][\"GBSeq_sequence\"] \n",
    "\n",
    "def write_sequence(genbank_id, records): \n",
    "    print(\"## processing: \"+genbank_id) \n",
    "    record_id = records[0][\"GBSeq_accession-version\"] \n",
    "    record_desc = records[0][\"GBSeq_definition\"] \n",
    "    record_seq = records[0][\"GBSeq_sequence\"] \n",
    "    with open(\"covid.fasta\",'a') as fw: \n",
    "        fw.write(\">\"+record_id+\" \"+record_desc+\"\\n\") \n",
    "        fw.write(record_seq+\"\\n\") \n",
    "        \n",
    "def read_table(file): \n",
    "    df = pd.read_csv(file, sep=\"\\t\") \n",
    "    return df \n",
    "\n",
    "f = open(\"covidlist.txt\", 'a')\n",
    "f.write(\"GenBank\"+\"\\t\"+\"RefSeq\"+\"\\t\"+\"Gene Region\"+\"\\n\")\n",
    "\n",
    "a = int(input('number : '))\n",
    "genbank_id = []\n",
    "for b in range(0, a):\n",
    "    genbank_id.append(input('name : '))\n",
    "    \n",
    "for b in range(0, a):\n",
    "    f.write(genbank_id[b]+\"\\t\"+\"\\t\"+\"complete\"+\"\\n\")\n",
    "\n",
    "f.close()\n",
    "\n",
    "file = \"covidlist.txt\" \n",
    "df = read_table(file) \n",
    "complete_df = df[df[\"Gene Region\"]==\"complete\"] \n",
    "genbank_id_list = complete_df[\"GenBank\"] \n",
    "\n",
    "genbank_id_list = complete_df[\"GenBank\"] \n",
    "for genbank_id in genbank_id_list: \n",
    "    records = fetch_record(genbank_id) \n",
    "    write_sequence(genbank_id, records)\n",
    "    \n",
    "muscle_exe = r\"C:\\Users\\조형민\\graduationProject\\covid19\\muscle3.8.31_i86win32\"\n",
    "\n",
    "cmd_line = MuscleCommandline(muscle_exe, \\\n",
    "                             input=\"covid.fasta\", \\\n",
    "                             out=\"covid.aln\", \\\n",
    "                             clw=\" \")\n",
    "\n",
    "print(cmd_line)\n",
    "stdout, stderr = cmd_line()"
   ]
  },
  {
   "cell_type": "code",
   "execution_count": 1,
   "metadata": {},
   "outputs": [
    {
     "ename": "NameError",
     "evalue": "name 'MuscleCommandline' is not defined",
     "output_type": "error",
     "traceback": [
      "\u001b[1;31m---------------------------------------------------------------------------\u001b[0m",
      "\u001b[1;31mNameError\u001b[0m                                 Traceback (most recent call last)",
      "\u001b[1;32m<ipython-input-1-b8b2da1a4cad>\u001b[0m in \u001b[0;36m<module>\u001b[1;34m\u001b[0m\n\u001b[1;32m----> 1\u001b[1;33m cmd_line2 = MuscleCommandline(muscle_exe, \\\n\u001b[0m\u001b[0;32m      2\u001b[0m                              \u001b[0minput\u001b[0m\u001b[1;33m=\u001b[0m\u001b[1;34m\"covid.fasta\"\u001b[0m\u001b[1;33m,\u001b[0m\u001b[0;31m \u001b[0m\u001b[0;31m\\\u001b[0m\u001b[1;33m\u001b[0m\u001b[1;33m\u001b[0m\u001b[0m\n\u001b[0;32m      3\u001b[0m                              \u001b[0mout\u001b[0m\u001b[1;33m=\u001b[0m\u001b[1;34m\"covid.afa\"\u001b[0m\u001b[1;33m,\u001b[0m\u001b[0;31m \u001b[0m\u001b[0;31m\\\u001b[0m\u001b[1;33m\u001b[0m\u001b[1;33m\u001b[0m\u001b[0m\n\u001b[0;32m      4\u001b[0m                              clw=\" \")\n\u001b[0;32m      5\u001b[0m \u001b[1;33m\u001b[0m\u001b[0m\n",
      "\u001b[1;31mNameError\u001b[0m: name 'MuscleCommandline' is not defined"
     ]
    }
   ],
   "source": [
    "cmd_line2 = MuscleCommandline(muscle_exe, \\\n",
    "                             input=\"covid.fasta\", \\\n",
    "                             out=\"covid.afa\", \\\n",
    "                             clw=\" \")\n",
    "\n",
    "print(cmd_line2)\n",
    "stdout, stderr = cmd_line2()"
   ]
  },
  {
   "cell_type": "code",
   "execution_count": null,
   "metadata": {},
   "outputs": [],
   "source": []
  }
 ],
 "metadata": {
  "kernelspec": {
   "display_name": "Python 3",
   "language": "python",
   "name": "python3"
  },
  "language_info": {
   "codemirror_mode": {
    "name": "ipython",
    "version": 3
   },
   "file_extension": ".py",
   "mimetype": "text/x-python",
   "name": "python",
   "nbconvert_exporter": "python",
   "pygments_lexer": "ipython3",
   "version": "3.8.5"
  }
 },
 "nbformat": 4,
 "nbformat_minor": 4
}
