{
 "cells": [
  {
   "cell_type": "code",
   "execution_count": 1,
   "metadata": {},
   "outputs": [],
   "source": [
    "from Bio import AlignIO"
   ]
  },
  {
   "cell_type": "code",
   "execution_count": null,
   "metadata": {},
   "outputs": [],
   "source": []
  },
  {
   "cell_type": "code",
   "execution_count": 2,
   "metadata": {},
   "outputs": [],
   "source": [
    "alignment = AlignIO.read(\"covid.all.aln\", \"clustal\")"
   ]
  },
  {
   "cell_type": "code",
   "execution_count": 3,
   "metadata": {},
   "outputs": [
    {
     "name": "stdout",
     "output_type": "stream",
     "text": [
      "Alignment with 49 rows and 29941 columns\n",
      "---------ATTAAAGGT--------------------------...AAA MT039890.1\n",
      "---------ATTAAAGGT--------------------------...--- MN988713.1\n",
      "---------ATTAAAGGT--------------------------...--- MT093571.1\n",
      "---------ATTAAAGGT--------------------------...--- MT019530.1\n",
      "---------ATTAAAGGT--------------------------...--- MN994467.1\n",
      "---------ATTAAAGGT--------------------------...--- MT044257.1\n",
      "---------ATTAAAGGT--------------------------...--- MT039888.1\n",
      "---------ATTAAAGGT--------------------------...--- MT106054.1\n",
      "------------AAAGGT--------------------------...--- LC522972.1\n",
      "---------ATTAAAGGT--------------------------...--- MT027062.1\n",
      "---------ATTAAAGGT--------------------------...--- MT027063.1\n",
      "---------ATTAAAGGT--------------------------...AAA MT007544.1\n",
      "---------ATTAAAGGT--------------------------...--- MT019529.1\n",
      "--------------------------------------------...--- MN996531.1\n",
      "--------------------------------------------...--- MN996529.1\n",
      "---------ATTAAAGGT--------------------------...--- MT066176.1\n",
      "---------ATTAAAGGT--------------------------...--- MN994468.1\n",
      "---------ATTAAAGGT--------------------------...--- MT027064.1\n",
      "...\n",
      "--------------------------------------------...--- MN938384.1\n"
     ]
    }
   ],
   "source": [
    "print(alignment)"
   ]
  },
  {
   "cell_type": "code",
   "execution_count": null,
   "metadata": {},
   "outputs": [],
   "source": []
  }
 ],
 "metadata": {
  "kernelspec": {
   "display_name": "Python 3",
   "language": "python",
   "name": "python3"
  },
  "language_info": {
   "codemirror_mode": {
    "name": "ipython",
    "version": 3
   },
   "file_extension": ".py",
   "mimetype": "text/x-python",
   "name": "python",
   "nbconvert_exporter": "python",
   "pygments_lexer": "ipython3",
   "version": "3.8.5"
  }
 },
 "nbformat": 4,
 "nbformat_minor": 4
}
