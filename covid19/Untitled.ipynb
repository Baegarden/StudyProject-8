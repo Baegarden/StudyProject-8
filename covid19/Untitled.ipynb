{
 "cells": [
  {
   "cell_type": "code",
   "execution_count": 25,
   "metadata": {},
   "outputs": [],
   "source": [
    "# run_muscle.py"
   ]
  },
  {
   "cell_type": "code",
   "execution_count": 26,
   "metadata": {},
   "outputs": [],
   "source": [
    "from Bio.Align.Applications import MuscleCommandline"
   ]
  },
  {
   "cell_type": "code",
   "execution_count": 27,
   "metadata": {},
   "outputs": [],
   "source": [
    "muscle_exe = r\"C:\\Users\\조형민\\graduationProject\\analysis\\muscle3.8.31_i86win32\""
   ]
  },
  {
   "cell_type": "code",
   "execution_count": 28,
   "metadata": {},
   "outputs": [],
   "source": [
    "cmd_line = MuscleCommandline(muscle_exe, \\\n",
    "                             input=\"covid.all.fasta\", \\\n",
    "                             out=\"covid.all.aln\", \\\n",
    "                            clw=\" \")"
   ]
  },
  {
   "cell_type": "code",
   "execution_count": 29,
   "metadata": {
    "scrolled": true
   },
   "outputs": [
    {
     "name": "stdout",
     "output_type": "stream",
     "text": [
      "C:\\Users\\조형민\\graduationProject\\analysis\\muscle3.8.31_i86win32 -in covid.all.fasta -out covid.all.aln -clw\n"
     ]
    }
   ],
   "source": [
    "print(cmd_line)"
   ]
  },
  {
   "cell_type": "code",
   "execution_count": 30,
   "metadata": {
    "scrolled": true
   },
   "outputs": [
    {
     "ename": "ApplicationError",
     "evalue": "Non-zero return code 2 from 'C:\\\\Users\\\\조형민\\\\graduationProject\\\\analysis\\\\muscle3.8.31_i86win32 -in covid.all.fasta -out covid.all.aln -clw', message 'MUSCLE v3.8.31 by Robert C. Edgar'",
     "output_type": "error",
     "traceback": [
      "\u001b[1;31m---------------------------------------------------------------------------\u001b[0m",
      "\u001b[1;31mApplicationError\u001b[0m                          Traceback (most recent call last)",
      "\u001b[1;32m<ipython-input-30-a5099c124b06>\u001b[0m in \u001b[0;36m<module>\u001b[1;34m\u001b[0m\n\u001b[1;32m----> 1\u001b[1;33m \u001b[0mstdout\u001b[0m\u001b[1;33m,\u001b[0m \u001b[0mstderr\u001b[0m \u001b[1;33m=\u001b[0m \u001b[0mcmd_line\u001b[0m\u001b[1;33m(\u001b[0m\u001b[1;33m)\u001b[0m\u001b[1;33m\u001b[0m\u001b[1;33m\u001b[0m\u001b[0m\n\u001b[0m",
      "\u001b[1;32mC:\\anaconda3\\lib\\site-packages\\Bio\\Application\\__init__.py\u001b[0m in \u001b[0;36m__call__\u001b[1;34m(self, stdin, stdout, stderr, cwd, env)\u001b[0m\n\u001b[0;32m    567\u001b[0m \u001b[1;33m\u001b[0m\u001b[0m\n\u001b[0;32m    568\u001b[0m         \u001b[1;32mif\u001b[0m \u001b[0mreturn_code\u001b[0m\u001b[1;33m:\u001b[0m\u001b[1;33m\u001b[0m\u001b[1;33m\u001b[0m\u001b[0m\n\u001b[1;32m--> 569\u001b[1;33m             \u001b[1;32mraise\u001b[0m \u001b[0mApplicationError\u001b[0m\u001b[1;33m(\u001b[0m\u001b[0mreturn_code\u001b[0m\u001b[1;33m,\u001b[0m \u001b[0mstr\u001b[0m\u001b[1;33m(\u001b[0m\u001b[0mself\u001b[0m\u001b[1;33m)\u001b[0m\u001b[1;33m,\u001b[0m \u001b[0mstdout_str\u001b[0m\u001b[1;33m,\u001b[0m \u001b[0mstderr_str\u001b[0m\u001b[1;33m)\u001b[0m\u001b[1;33m\u001b[0m\u001b[1;33m\u001b[0m\u001b[0m\n\u001b[0m\u001b[0;32m    570\u001b[0m         \u001b[1;32mreturn\u001b[0m \u001b[0mstdout_str\u001b[0m\u001b[1;33m,\u001b[0m \u001b[0mstderr_str\u001b[0m\u001b[1;33m\u001b[0m\u001b[1;33m\u001b[0m\u001b[0m\n\u001b[0;32m    571\u001b[0m \u001b[1;33m\u001b[0m\u001b[0m\n",
      "\u001b[1;31mApplicationError\u001b[0m: Non-zero return code 2 from 'C:\\\\Users\\\\조형민\\\\graduationProject\\\\analysis\\\\muscle3.8.31_i86win32 -in covid.all.fasta -out covid.all.aln -clw', message 'MUSCLE v3.8.31 by Robert C. Edgar'"
     ]
    }
   ],
   "source": [
    "stdout, stderr = cmd_line()"
   ]
  },
  {
   "cell_type": "code",
   "execution_count": null,
   "metadata": {},
   "outputs": [],
   "source": []
  }
 ],
 "metadata": {
  "kernelspec": {
   "display_name": "Python 3",
   "language": "python",
   "name": "python3"
  },
  "language_info": {
   "codemirror_mode": {
    "name": "ipython",
    "version": 3
   },
   "file_extension": ".py",
   "mimetype": "text/x-python",
   "name": "python",
   "nbconvert_exporter": "python",
   "pygments_lexer": "ipython3",
   "version": "3.8.5"
  }
 },
 "nbformat": 4,
 "nbformat_minor": 4
}
