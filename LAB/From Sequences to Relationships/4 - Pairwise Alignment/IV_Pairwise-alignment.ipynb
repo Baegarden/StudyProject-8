{
 "cells": [
  {
   "cell_type": "markdown",
   "metadata": {},
   "source": [
    "# IV - Pairwise alignment"
   ]
  },
  {
   "cell_type": "markdown",
   "metadata": {},
   "source": [
    "With this code you can construct search the number of different bases in two (DNA) sequences. You do not need any supplementary materials. \n",
    "\n",
    "You can find all material in our GitHub repository iGEM_UGent_2020. "
   ]
  },
  {
   "cell_type": "markdown",
   "metadata": {},
   "source": [
    "## Set your working directory"
   ]
  },
  {
   "cell_type": "markdown",
   "metadata": {},
   "source": [
    "First, set up your working directory. Standard, this is the location where this jupyter notebook is situated. "
   ]
  },
  {
   "cell_type": "code",
   "execution_count": 1,
   "metadata": {},
   "outputs": [
    {
     "name": "stdout",
     "output_type": "stream",
     "text": [
      "C:\\Users\\dnjs0\\graduationProject\\LAB\\From Sequences to Relationships\\4 - Pairwise Alignment\n"
     ]
    }
   ],
   "source": [
    "import os\n",
    "wdir = os.getcwd()\n",
    "print(wdir)"
   ]
  },
  {
   "cell_type": "markdown",
   "metadata": {},
   "source": [
    "## The Pairwise Alignment algorithm "
   ]
  },
  {
   "cell_type": "markdown",
   "metadata": {},
   "source": [
    "We use two separate functions to construct the dot plot. Further, we calculate the number of aligned and unaligned bases. \n",
    "Later on, we will recycle the fill_print() function!"
   ]
  },
  {
   "cell_type": "code",
   "execution_count": 2,
   "metadata": {},
   "outputs": [],
   "source": [
    "import numpy as np\n",
    "import matplotlib as plt\n",
    "import matplotlib.pyplot as pltpy\n",
    "\n",
    "# function with the decisions for the dot plot\n",
    "def fillMatrix(M):\n",
    "    # add windows size W\n",
    "    ct = 0\n",
    "    M[0][0] = \" \"\n",
    "    for r in range(1, M.shape[0]):\n",
    "        for c in range(1, M.shape[1]):\n",
    "            if M[r][0] == M[0][c]:\n",
    "                M[r][c] = \"*\"\n",
    "                if r == c:\n",
    "                    ct += 1\n",
    "            else:\n",
    "                M[r][c] = \" \"\n",
    "    incorr = M.shape[0] - ct - 1\n",
    "    print(\"Number of aligned bases:\", ct)\n",
    "    print(\"Number of unaligned bases:\", incorr, \"\\n\")\n",
    "\n",
    "# Create and print the dot plot\n",
    "def fill_print():\n",
    "    D = np.zeros([len(sequence1)+1,len(sequence2)+1],dtype=str)\n",
    "    for r in range(0, len(sequence1)):\n",
    "        D[r+1][0] = sequence1[r:r+1]\n",
    "    for c in range(0, len(sequence2)):\n",
    "        D[0][c+1] = sequence2[c:c+1]\n",
    "    fillMatrix(D)\n",
    "    print(D)\n",
    "\n",
    "def fill_plot():\n",
    "    D = np.zeros([len(sequence1)+1,len(sequence2)+1],dtype=str)\n",
    "    #print (D), print (D.shape[0])\n",
    "    for r in range(0, len(sequence1)):\n",
    "        D[r+1][0] = sequence1[r:r+1]\n",
    "    for c in range(0, len(sequence2)):\n",
    "        D[0][c+1] = sequence2[c:c+1]\n",
    "    fillMatrix(D)\n",
    "                \n",
    "    cmap = plt.colors.ListedColormap(['black', 'white'])\n",
    "    bounds = [0,0.5,1]\n",
    "    norm = plt.colors.BoundaryNorm(bounds, cmap.N)\n",
    "   \n",
    "    fig, ax = pltpy.subplots(figsize=(10, 10), dpi=70)\n",
    "    D_red = np.delete(D, 0, axis=1)\n",
    "    D_red = np.delete(D_red, 0, axis=0)\n",
    "    D_red_log = D_red == \"*\"\n",
    "    ax.imshow(D_red_log, cmap=cmap, norm=norm)\n",
    "    \"\"\"\n",
    "    # Try to get contours around the diagonal (?)\n",
    "    for r in range(0, len(sequence1)):\n",
    "        for c in range(0,len(sequence2)):\n",
    "            if r == c:\n",
    "                pltpy.contour(D, color=\"red\")\n",
    "    \"\"\"\n",
    "   \n",
    "    pltpy.show()"
   ]
  },
  {
   "cell_type": "markdown",
   "metadata": {},
   "source": [
    "## (1) A small example"
   ]
  },
  {
   "cell_type": "markdown",
   "metadata": {},
   "source": [
    "First, let's use two small sequence fragments so we can show the dot plot as well!"
   ]
  },
  {
   "cell_type": "code",
   "execution_count": 3,
   "metadata": {},
   "outputs": [
    {
     "name": "stdout",
     "output_type": "stream",
     "text": [
      "Number of aligned bases: 4\n",
      "Number of unaligned bases: 13 \n",
      "\n",
      "[[' ' 'T' 'A' 'C' 'C' 'A' 'T' 'T' 'G' 'G' 'A' 'T' 'T' 'A' 'C' 'A' 'G' 'T']\n",
      " ['G' ' ' ' ' ' ' ' ' ' ' ' ' ' ' '*' '*' ' ' ' ' ' ' ' ' ' ' ' ' '*' ' ']\n",
      " ['A' ' ' '*' ' ' ' ' '*' ' ' ' ' ' ' ' ' '*' ' ' ' ' '*' ' ' '*' ' ' ' ']\n",
      " ['G' ' ' ' ' ' ' ' ' ' ' ' ' ' ' '*' '*' ' ' ' ' ' ' ' ' ' ' ' ' '*' ' ']\n",
      " ['A' ' ' '*' ' ' ' ' '*' ' ' ' ' ' ' ' ' '*' ' ' ' ' '*' ' ' '*' ' ' ' ']\n",
      " ['T' '*' ' ' ' ' ' ' ' ' '*' '*' ' ' ' ' ' ' '*' '*' ' ' ' ' ' ' ' ' '*']\n",
      " ['T' '*' ' ' ' ' ' ' ' ' '*' '*' ' ' ' ' ' ' '*' '*' ' ' ' ' ' ' ' ' '*']\n",
      " ['A' ' ' '*' ' ' ' ' '*' ' ' ' ' ' ' ' ' '*' ' ' ' ' '*' ' ' '*' ' ' ' ']\n",
      " ['C' ' ' ' ' '*' '*' ' ' ' ' ' ' ' ' ' ' ' ' ' ' ' ' ' ' '*' ' ' ' ' ' ']\n",
      " ['A' ' ' '*' ' ' ' ' '*' ' ' ' ' ' ' ' ' '*' ' ' ' ' '*' ' ' '*' ' ' ' ']\n",
      " ['G' ' ' ' ' ' ' ' ' ' ' ' ' ' ' '*' '*' ' ' ' ' ' ' ' ' ' ' ' ' '*' ' ']\n",
      " ['A' ' ' '*' ' ' ' ' '*' ' ' ' ' ' ' ' ' '*' ' ' ' ' '*' ' ' '*' ' ' ' ']\n",
      " ['T' '*' ' ' ' ' ' ' ' ' '*' '*' ' ' ' ' ' ' '*' '*' ' ' ' ' ' ' ' ' '*']\n",
      " ['T' '*' ' ' ' ' ' ' ' ' '*' '*' ' ' ' ' ' ' '*' '*' ' ' ' ' ' ' ' ' '*']\n",
      " ['A' ' ' '*' ' ' ' ' '*' ' ' ' ' ' ' ' ' '*' ' ' ' ' '*' ' ' '*' ' ' ' ']\n",
      " ['C' ' ' ' ' '*' '*' ' ' ' ' ' ' ' ' ' ' ' ' ' ' ' ' ' ' '*' ' ' ' ' ' ']\n",
      " ['A' ' ' '*' ' ' ' ' '*' ' ' ' ' ' ' ' ' '*' ' ' ' ' '*' ' ' '*' ' ' ' ']\n",
      " ['T' '*' ' ' ' ' ' ' ' ' '*' '*' ' ' ' ' ' ' '*' '*' ' ' ' ' ' ' ' ' '*']]\n"
     ]
    }
   ],
   "source": [
    "sequence1 = \"GAGATTACAGATTACAT\"\n",
    "sequence2 = \"TACCATTGGATTACAGT\"\n",
    "\n",
    "fill_print()"
   ]
  },
  {
   "cell_type": "code",
   "execution_count": 23,
   "metadata": {},
   "outputs": [
    {
     "name": "stdout",
     "output_type": "stream",
     "text": [
      "Number of aligned bases: 4\n",
      "Number of unaligned bases: 13 \n",
      "\n"
     ]
    },
    {
     "data": {
      "image/png": "[encoded data removed]",
      "text/plain": [
       "<Figure size 700x700 with 1 Axes>"
      ]
     },
     "metadata": {
      "needs_background": "light"
     },
     "output_type": "display_data"
    }
   ],
   "source": [
    "sequence1 = \"GAGATTACAGATTACAT\"\n",
    "sequence2 = \"TACCATTGGATTACAGT\"\n",
    "\n",
    "fill_plot()"
   ]
  },
  {
   "cell_type": "markdown",
   "metadata": {},
   "source": [
    "## (2) Real sequences"
   ]
  },
  {
   "cell_type": "markdown",
   "metadata": {},
   "source": [
    "First, we have to retrieve the sequences from NCBI Genbank.\n",
    "It is recommended to do this outside the US working hours to not overload the NCBI servers. When you get the HTTP error, you cannot retrieve the sequences because of server overload. You can then use sequence files from our Github page. I put this as default for now."
   ]
  },
  {
   "cell_type": "code",
   "execution_count": 21,
   "metadata": {},
   "outputs": [],
   "source": [
    "\"\"\"\n",
    "# Get two sequences\n",
    "import csv\n",
    "from Bio import SeqIO\n",
    "from Bio import Entrez\n",
    "\n",
    "Entrez.email = \"A.N.Other@example.com\"\n",
    "        \n",
    "fasta_file = {}\n",
    "with open('accessions_psa.txt') as csv_file:\n",
    "    csv_reader = csv.reader(csv_file, delimiter=',')\n",
    "    for row in csv_reader:\n",
    "        with Entrez.efetch(db=\"nucleotide\", rettype=\"gb\", retmode = \"text\", id = row[0]) as handle:\n",
    "            for seq_record in SeqIO.parse(handle, \"gb\"):\n",
    "                fasta_file[row[1]] = str(seq_record.seq)\n",
    "\n",
    "\n",
    "\"\"\"\n",
    "be = open(\"corona19.txt\",\"r\")\n",
    "besr = be.read()\n",
    "sequence1 = besr[10000:20000]\n",
    "be.close()\n",
    "\n",
    "ch = open(\"mers.txt\",\"r\")\n",
    "chsr = ch.read()\n",
    "sequence2 = chsr[10000:20000]\n",
    "ch.close()\n",
    "\n",
    "# We only take a look at 10000 bases from the complete sequence! "
   ]
  },
  {
   "cell_type": "markdown",
   "metadata": {},
   "source": [
    "Using the fill_plot function will not work out. That takes too long and is not really lovely to see!"
   ]
  },
  {
   "cell_type": "code",
   "execution_count": 22,
   "metadata": {},
   "outputs": [
    {
     "name": "stdout",
     "output_type": "stream",
     "text": [
      "Number of aligned bases: 2513\n",
      "Number of unaligned bases: 7487 \n",
      "\n"
     ]
    },
    {
     "data": {
      "image/png": "[encoded data removed]",
      "text/plain": [
       "<Figure size 700x700 with 1 Axes>"
      ]
     },
     "metadata": {
      "needs_background": "light"
     },
     "output_type": "display_data"
    }
   ],
   "source": [
    "fill_plot()"
   ]
  },
  {
   "cell_type": "markdown",
   "metadata": {},
   "source": [
    "## (3) Protein sequences"
   ]
  },
  {
   "cell_type": "markdown",
   "metadata": {},
   "source": [
    "To give an idea, we can use the fill_plot function for protein sequences as well. "
   ]
  },
  {
   "cell_type": "code",
   "execution_count": null,
   "metadata": {},
   "outputs": [],
   "source": [
    "\"\"\"\n",
    "# Get two sequences\n",
    "from Bio import SeqIO\n",
    "from Bio import Entrez\n",
    "\n",
    "Entrez.email = \"A.N.Other@example.com\"\n",
    "\n",
    "with Entrez.efetch(db=\"Protein\", rettype=\"gb\", retmode = \"text\", id = \"NP_000537.3 \") as handle:\n",
    "    for seq_record in SeqIO.parse(handle, \"gb\"):\n",
    "        human = str(seq_record.seq)\n",
    "     \n",
    "f = open(\"p53_human.txt\",\"w+\")\n",
    "f.write(human)\n",
    "f.close()\n",
    "\n",
    "with Entrez.efetch(db=\"Protein\", rettype=\"gb\", retmode = \"text\", id = \"NP_035770.2 \") as handle:\n",
    "    for seq_record in SeqIO.parse(handle, \"gb\"):\n",
    "        mouse = str(seq_record.seq)\n",
    "  \n",
    "f = open(\"p53_mouse.txt\",\"w+\")\n",
    "f.write(mouse)\n",
    "f.close()\n",
    "\n",
    "\"\"\"\n",
    "\n",
    "# open both sequences\n",
    "h = open(\"p53_human.txt\",\"r\")\n",
    "sequence1 = h.read()\n",
    "#hs = besr[0:1000]\n",
    "h.close()\n",
    "\n",
    "m = open(\"p53_mouse.txt\",\"r\")\n",
    "sequence2 = m.read()\n",
    "#ms = chsr[0:1000]\n",
    "m.close()\n",
    "\n",
    "# print dot plot\n",
    "fill_plot()"
   ]
  },
  {
   "cell_type": "markdown",
   "metadata": {},
   "source": [
    "## Remark"
   ]
  },
  {
   "cell_type": "markdown",
   "metadata": {},
   "source": [
    "In this tutorial, we only touch upon the creation of a dot-plot. This type of plot can give a lot of information on the sequences that you put on the plot. You can also create a window size that will reduce the noice on the plot. \n",
    "<br />\n",
    "\n",
    "Some ideas: \n",
    "* plot a sequence and its reverse sequence \n",
    "* put a gene against its CDS \n",
    "* plot two isoforms of the same protein"
   ]
  },
  {
   "cell_type": "markdown",
   "metadata": {},
   "source": [
    "## References & further reading"
   ]
  },
  {
   "cell_type": "markdown",
   "metadata": {},
   "source": [
    "Chang, J., Chapman, B., Friedberg, I., Hamelryck, T., de Hoon, M., Cock, P., Antao, T., Talevich, E., Wilczynski, B. (2020). Biopython Tutorial and Cookbook, Biopython 1.77. Available via biopython.org\n",
    "\n",
    "On finetuning and the interpretation of dot-plots: https://omicstutorials.com/interpreting-dot-plot-bioinformatics-with-an-example/\n",
    "\n"
   ]
  }
 ],
 "metadata": {
  "kernelspec": {
   "display_name": "Python 3",
   "language": "python",
   "name": "python3"
  },
  "language_info": {
   "codemirror_mode": {
    "name": "ipython",
    "version": 3
   },
   "file_extension": ".py",
   "mimetype": "text/x-python",
   "name": "python",
   "nbconvert_exporter": "python",
   "pygments_lexer": "ipython3",
   "version": "3.8.5"
  }
 },
 "nbformat": 4,
 "nbformat_minor": 4
}
